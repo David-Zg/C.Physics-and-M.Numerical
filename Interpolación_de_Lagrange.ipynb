{
  "nbformat": 4,
  "nbformat_minor": 0,
  "metadata": {
    "colab": {
      "name": "Interpolación_de_Lagrange.ipynb",
      "provenance": [],
      "mount_file_id": "1ZP5XKHWp5jDHpKP8_4hxnRMdysD-AMQl",
      "authorship_tag": "ABX9TyOEoSGdEBEdcXpuDo3H8/FG",
      "include_colab_link": true
    },
    "kernelspec": {
      "name": "python3",
      "display_name": "Python 3"
    },
    "language_info": {
      "name": "python"
    }
  },
  "cells": [
    {
      "cell_type": "markdown",
      "metadata": {
        "id": "view-in-github",
        "colab_type": "text"
      },
      "source": [
        "<a href=\"https://colab.research.google.com/github/David-Zg/Numerical-methods/blob/main/Interpolaci%C3%B3n_de_Lagrange.ipynb\" target=\"_parent\"><img src=\"https://colab.research.google.com/assets/colab-badge.svg\" alt=\"Open In Colab\"/></a>"
      ]
    },
    {
      "cell_type": "markdown",
      "metadata": {
        "id": "PyScl33fHiKK"
      },
      "source": [
        "# <font size=6pt>Métodos Numéricos</font>\n",
        "*Zevallos Garay, David Brandon*"
      ]
    },
    {
      "cell_type": "markdown",
      "metadata": {
        "id": "Vy7l52Z0Hlq8"
      },
      "source": [
        "## Interpolación de Lagrange\n",
        "---"
      ]
    },
    {
      "cell_type": "markdown",
      "metadata": {
        "id": "Kg4qRZd2HsVt"
      },
      "source": [
        "Hay varias formas de poder aproximar una función a varios puntos:\n",
        "- Interpolación de Lagrange (Lo veremos en este capítulo).\n",
        "- Series de potencias.\n",
        "- Interpolación de Newton hacia atras y hacia adelante."
      ]
    },
    {
      "cell_type": "markdown",
      "metadata": {
        "id": "oPKsMll76w1x"
      },
      "source": [
        "La fórmula de interpolación de Lagrange de orden $N$ se obtiene como\n",
        "\n",
        "$$g(x) = \\frac{(x - x_1)(x - x_2) \\cdots (x - x_N)}{(x_0 - x_1)(_0 - x_2) \\cdots (x_0 - x_N)} f_0 + \\frac{(x - x_0)(x - x_2) \\cdots (x - x_N)}{(x_1 - x_0)(x_1 - x_2) \\cdots (x_1 - x_N)} f_1 + \\cdots + \\frac{(x - x_0)(x - x_1) \\cdots (x - x_{N-1})}{(x_N - x_0)(x_N - x_1) \\cdots (x_N - x_{N-1})} f_N$$"
      ]
    },
    {
      "cell_type": "code",
      "metadata": {
        "id": "VCaZr45kIKQb"
      },
      "source": [
        "import matplotlib.pyplot as plt\n",
        "import numpy as np\n",
        "import pandas as pd"
      ],
      "execution_count": 1,
      "outputs": []
    },
    {
      "cell_type": "markdown",
      "metadata": {
        "id": "Q3lcQJe_2yrX"
      },
      "source": [
        "<font size=5pt>Veamos un ejemplo</font>\n"
      ]
    },
    {
      "cell_type": "code",
      "metadata": {
        "id": "RhrfjCkJJVUV"
      },
      "source": [
        "# Creamos un diccionario\n",
        "data = {\"Temperatura\": [94., 205., 371.],\n",
        "        \"Densidad\": [929., 902., 860.]}"
      ],
      "execution_count": 2,
      "outputs": []
    },
    {
      "cell_type": "code",
      "metadata": {
        "colab": {
          "base_uri": "https://localhost:8080/",
          "height": 142
        },
        "id": "-4j4avQZJqSa",
        "outputId": "126006dd-85f8-412b-bf47-06a62bf53df5"
      },
      "source": [
        "df = pd.DataFrame(data)\n",
        "df.head()"
      ],
      "execution_count": 3,
      "outputs": [
        {
          "output_type": "execute_result",
          "data": {
            "text/html": [
              "<div>\n",
              "<style scoped>\n",
              "    .dataframe tbody tr th:only-of-type {\n",
              "        vertical-align: middle;\n",
              "    }\n",
              "\n",
              "    .dataframe tbody tr th {\n",
              "        vertical-align: top;\n",
              "    }\n",
              "\n",
              "    .dataframe thead th {\n",
              "        text-align: right;\n",
              "    }\n",
              "</style>\n",
              "<table border=\"1\" class=\"dataframe\">\n",
              "  <thead>\n",
              "    <tr style=\"text-align: right;\">\n",
              "      <th></th>\n",
              "      <th>Temperatura</th>\n",
              "      <th>Densidad</th>\n",
              "    </tr>\n",
              "  </thead>\n",
              "  <tbody>\n",
              "    <tr>\n",
              "      <th>0</th>\n",
              "      <td>94.0</td>\n",
              "      <td>929.0</td>\n",
              "    </tr>\n",
              "    <tr>\n",
              "      <th>1</th>\n",
              "      <td>205.0</td>\n",
              "      <td>902.0</td>\n",
              "    </tr>\n",
              "    <tr>\n",
              "      <th>2</th>\n",
              "      <td>371.0</td>\n",
              "      <td>860.0</td>\n",
              "    </tr>\n",
              "  </tbody>\n",
              "</table>\n",
              "</div>"
            ],
            "text/plain": [
              "   Temperatura  Densidad\n",
              "0         94.0     929.0\n",
              "1        205.0     902.0\n",
              "2        371.0     860.0"
            ]
          },
          "metadata": {
            "tags": []
          },
          "execution_count": 3
        }
      ]
    },
    {
      "cell_type": "code",
      "metadata": {
        "id": "AdxTq0KaJrmx"
      },
      "source": [
        "X = df.Temperatura.values\n",
        "Y = df.Densidad.values"
      ],
      "execution_count": 4,
      "outputs": []
    },
    {
      "cell_type": "code",
      "metadata": {
        "colab": {
          "base_uri": "https://localhost:8080/",
          "height": 415
        },
        "id": "sq1HIX7f5HI_",
        "outputId": "7e97896e-757f-47af-dad2-51ede54ed157"
      },
      "source": [
        "# Graficando los puntos\n",
        "plt.figure(figsize = (6, 6))\n",
        "\n",
        "plt.grid()\n",
        "plt.scatter(X, Y, c=\"red\")\n",
        "plt.xlabel(\"Temperatura $T^°C$\")\n",
        "plt.ylabel(\"Densidad $kg/m^3$\")\n",
        "plt.title(\"Temperatura VS Densidad\", fontsize = 20)\n",
        "plt.show()"
      ],
      "execution_count": 5,
      "outputs": [
        {
          "output_type": "display_data",
          "data": {
            "image/png": "[encoded data removed]",
            "text/plain": [
              "<Figure size 432x432 with 1 Axes>"
            ]
          },
          "metadata": {
            "tags": [],
            "needs_background": "light"
          }
        }
      ]
    },
    {
      "cell_type": "code",
      "metadata": {
        "id": "_2bCj8q9wH3p"
      },
      "source": [
        "# Por partes\n",
        "T = 251\n",
        "g_T = ((T - X[1])*(T - X[2]))/((X[0] - X[1])*(X[0] - X[2])) * Y[0] +\\\n",
        "      ((T - X[0])*(T - X[2]))/((X[1] - X[0])*(X[1] - X[2])) * Y[1] +\\\n",
        "      ((T - X[0])*(T - X[1]))/((X[2] - X[0])*(X[2] - X[1])) * Y[2] "
      ],
      "execution_count": 6,
      "outputs": []
    },
    {
      "cell_type": "code",
      "metadata": {
        "colab": {
          "base_uri": "https://localhost:8080/"
        },
        "id": "fcEbpWyy0iW7",
        "outputId": "e6e09c2f-b1bb-4cde-e0a0-b22809f8465b"
      },
      "source": [
        "g_T"
      ],
      "execution_count": 7,
      "outputs": [
        {
          "output_type": "execute_result",
          "data": {
            "text/plain": [
              "890.5561165532459"
            ]
          },
          "metadata": {
            "tags": []
          },
          "execution_count": 7
        }
      ]
    },
    {
      "cell_type": "code",
      "metadata": {
        "colab": {
          "base_uri": "https://localhost:8080/",
          "height": 415
        },
        "id": "IC_-yBrI08U-",
        "outputId": "56fb1df4-cc7f-4031-a35e-f664bea47b3b"
      },
      "source": [
        "plt.figure(figsize = (6, 6))\n",
        "\n",
        "plt.grid()\n",
        "plt.scatter(X, Y, c=\"red\")\n",
        "plt.scatter(T, g_T, c = \"blue\")\n",
        "plt.xlabel(\"Temperatura $T^°C$\")\n",
        "plt.ylabel(\"Densidad $kg/m^3$\")\n",
        "plt.title(\"Temperatura VS Densidad\", fontsize = 20)\n",
        "plt.show()"
      ],
      "execution_count": 8,
      "outputs": [
        {
          "output_type": "display_data",
          "data": {
            "image/png": "[encoded data removed]",
            "text/plain": [
              "<Figure size 432x432 with 1 Axes>"
            ]
          },
          "metadata": {
            "tags": [],
            "needs_background": "light"
          }
        }
      ]
    },
    {
      "cell_type": "markdown",
      "metadata": {
        "id": "lbNof6Sh6W1C"
      },
      "source": [
        "<font size=5pt, color=\"yellow\">Probando hacer un código para el ejemplo</font>"
      ]
    },
    {
      "cell_type": "code",
      "metadata": {
        "colab": {
          "base_uri": "https://localhost:8080/",
          "height": 142
        },
        "id": "e6AyelMY6oNd",
        "outputId": "3e5682e6-9e2f-4a66-b821-7cd4c4122f3d"
      },
      "source": [
        "df.head()"
      ],
      "execution_count": 9,
      "outputs": [
        {
          "output_type": "execute_result",
          "data": {
            "text/html": [
              "<div>\n",
              "<style scoped>\n",
              "    .dataframe tbody tr th:only-of-type {\n",
              "        vertical-align: middle;\n",
              "    }\n",
              "\n",
              "    .dataframe tbody tr th {\n",
              "        vertical-align: top;\n",
              "    }\n",
              "\n",
              "    .dataframe thead th {\n",
              "        text-align: right;\n",
              "    }\n",
              "</style>\n",
              "<table border=\"1\" class=\"dataframe\">\n",
              "  <thead>\n",
              "    <tr style=\"text-align: right;\">\n",
              "      <th></th>\n",
              "      <th>Temperatura</th>\n",
              "      <th>Densidad</th>\n",
              "    </tr>\n",
              "  </thead>\n",
              "  <tbody>\n",
              "    <tr>\n",
              "      <th>0</th>\n",
              "      <td>94.0</td>\n",
              "      <td>929.0</td>\n",
              "    </tr>\n",
              "    <tr>\n",
              "      <th>1</th>\n",
              "      <td>205.0</td>\n",
              "      <td>902.0</td>\n",
              "    </tr>\n",
              "    <tr>\n",
              "      <th>2</th>\n",
              "      <td>371.0</td>\n",
              "      <td>860.0</td>\n",
              "    </tr>\n",
              "  </tbody>\n",
              "</table>\n",
              "</div>"
            ],
            "text/plain": [
              "   Temperatura  Densidad\n",
              "0         94.0     929.0\n",
              "1        205.0     902.0\n",
              "2        371.0     860.0"
            ]
          },
          "metadata": {
            "tags": []
          },
          "execution_count": 9
        }
      ]
    },
    {
      "cell_type": "code",
      "metadata": {
        "colab": {
          "base_uri": "https://localhost:8080/"
        },
        "id": "asR-RPDI6hhO",
        "outputId": "a82b942d-c57c-419a-d8f9-f970b0c9927f"
      },
      "source": [
        "sum = 0\n",
        "for i in range(len(df)):\n",
        "  z = 1\n",
        "  for j in range(len(df)):\n",
        "    if (i != j):\n",
        "      z = z * ((T - X[j])/(X[i] - X[j]))\n",
        "  sum = (Y[i] * z) + sum\n",
        "print(sum)"
      ],
      "execution_count": 10,
      "outputs": [
        {
          "output_type": "stream",
          "text": [
            "890.5561165532458\n"
          ],
          "name": "stdout"
        }
      ]
    },
    {
      "cell_type": "markdown",
      "metadata": {
        "id": "lR7lZUWlSnpY"
      },
      "source": [
        "<font size=5pt, color=\"yellow\">Generalizamos el código</font>"
      ]
    },
    {
      "cell_type": "code",
      "metadata": {
        "id": "oDHcu0iWSw20"
      },
      "source": [
        "# La función consta de tres parámeetros\n",
        "# x = Variables de entrada\n",
        "# y = Valores de la función\n",
        "# T = Valor \"X\" para la cual se quiere interpolar\n",
        "def inter_lagrange(x , y, T):\n",
        "  # Procesando data\n",
        "  X = pd.DataFrame(x, columns = [\"X\"])\n",
        "  Y = pd.DataFrame(y, columns = [\"Y\"])\n",
        "  df = pd.concat([X, Y], axis=1)\n",
        "  #Convirtiendo a array de numpy\n",
        "  X = df.X.values\n",
        "  Y = df.Y.values\n",
        "\n",
        "  #definiendo la interpolación\n",
        "  sum = 0\n",
        "  for i in range(len(df)):\n",
        "    z = 1\n",
        "    for j in range(len(df)):\n",
        "      if (i != j):\n",
        "        z = z * ((T - X[j])/(X[i] - X[j]))\n",
        "    sum = (Y[i] * z) + sum\n",
        "\n",
        "# Creando la gráfica\n",
        "  plt.figure(figsize=(7, 7))\n",
        "  plt.scatter(X, Y, c = \"green\")\n",
        "  plt.scatter(T, sum, c = \"blue\")\n",
        "  plt.grid()\n",
        "  plt.title(\"Interpolación de Lagrange\", fontsize = 20)\n",
        "  plt.xlabel(\"x\")\n",
        "  plt.ylabel(\"y = $f(x)$\")\n",
        "\n",
        "  plt.show()\n",
        "\n",
        "  print(\"\\n\\n La iterpolación para \\n X = %s\" % T + \" \\n es \\n Y = %s\"  % round(sum, 3))"
      ],
      "execution_count": 14,
      "outputs": []
    },
    {
      "cell_type": "code",
      "metadata": {
        "id": "fkd1RLZCUnD3"
      },
      "source": [
        "# Data de prueba\n",
        "x = [94, 205, 371]\n",
        "y = [929, 902, 860]"
      ],
      "execution_count": 12,
      "outputs": []
    },
    {
      "cell_type": "code",
      "metadata": {
        "colab": {
          "base_uri": "https://localhost:8080/",
          "height": 566
        },
        "id": "Lba5meAWT4AJ",
        "outputId": "b6f7cf8a-2f50-4526-ac5c-e16deba7bacd"
      },
      "source": [
        "inter_lagrange(x, y, 100)"
      ],
      "execution_count": 15,
      "outputs": [
        {
          "output_type": "display_data",
          "data": {
            "image/png": "[encoded data removed]",
            "text/plain": [
              "<Figure size 504x504 with 1 Axes>"
            ]
          },
          "metadata": {
            "tags": [],
            "needs_background": "light"
          }
        },
        {
          "output_type": "stream",
          "text": [
            "\n",
            "\n",
            " La iterpolación para \n",
            " X = 100 \n",
            " es \n",
            " Y = 927.563\n"
          ],
          "name": "stdout"
        }
      ]
    },
    {
      "cell_type": "code",
      "metadata": {
        "id": "oO0MP5m6Ufcv"
      },
      "source": [
        ""
      ],
      "execution_count": 13,
      "outputs": []
    }
  ]
}